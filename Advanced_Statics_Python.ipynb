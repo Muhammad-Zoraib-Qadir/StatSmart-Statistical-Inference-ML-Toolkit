{
 "cells": [
  {
   "cell_type": "markdown",
   "id": "e3c1cfd6",
   "metadata": {},
   "source": [
    "# Part 1"
   ]
  },
  {
   "cell_type": "code",
   "execution_count": 1,
   "id": "a11868f7",
   "metadata": {},
   "outputs": [],
   "source": [
    "import pandas as pd\n",
    "import numpy as np\n",
    "import statistics\n",
    "from scipy import stats\n",
    "import scipy.stats as stats"
   ]
  },
  {
   "cell_type": "markdown",
   "id": "737f42c9",
   "metadata": {},
   "source": [
    "Question 1 (A)"
   ]
  },
  {
   "cell_type": "code",
   "execution_count": 2,
   "id": "0fc88270",
   "metadata": {},
   "outputs": [
    {
     "name": "stdout",
     "output_type": "stream",
     "text": [
      "Standard Error (SE):  0.5\n"
     ]
    }
   ],
   "source": [
    "s = 2.5 # sample standard deviation\n",
    "n = 25 # sample size\n",
    "\n",
    "SE = s / np.sqrt(n)#Formula to find standard error\n",
    "\n",
    "print(\"Standard Error (SE): \", SE)"
   ]
  },
  {
   "cell_type": "code",
   "execution_count": 3,
   "id": "894a5dd6",
   "metadata": {},
   "outputs": [
    {
     "name": "stdout",
     "output_type": "stream",
     "text": [
      "Lower bound (LB):  67.02\n",
      "Upper bound (UB):  68.98\n"
     ]
    }
   ],
   "source": [
    "SM = 68 # sample mean\n",
    "z_alpha_2 = 1.96 # critical value for a 95% confidence interval\n",
    "\n",
    "LB = SM - z_alpha_2 * SE\n",
    "UB = SM + z_alpha_2 * SE\n",
    "\n",
    "print(\"Lower bound (LB): \", LB)\n",
    "print(\"Upper bound (UB): \", UB)"
   ]
  },
  {
   "cell_type": "markdown",
   "id": "0703a5b8",
   "metadata": {},
   "source": [
    "Question 1 C"
   ]
  },
  {
   "cell_type": "code",
   "execution_count": 4,
   "id": "1fe4cdab",
   "metadata": {},
   "outputs": [
    {
     "name": "stdout",
     "output_type": "stream",
     "text": [
      "95% Confidence Interval:  (nan, nan)\n"
     ]
    },
    {
     "name": "stderr",
     "output_type": "stream",
     "text": [
      "C:\\ProgramData\\Anaconda3\\lib\\site-packages\\scipy\\stats\\_distn_infrastructure.py:2343: RuntimeWarning: invalid value encountered in multiply\n",
      "  lower_bound = _a * scale + loc\n",
      "C:\\ProgramData\\Anaconda3\\lib\\site-packages\\scipy\\stats\\_distn_infrastructure.py:2344: RuntimeWarning: invalid value encountered in multiply\n",
      "  upper_bound = _b * scale + loc\n"
     ]
    }
   ],
   "source": [
    "# sample data and parameters\n",
    "data = [68]*25 # sample data (heights)\n",
    "confidence = 0.95 # confidence level\n",
    "\n",
    "# compute confidence interval\n",
    "interval = stats.t.interval(confidence, len(data)-1, loc=statistics.mean(data), scale=statistics.stdev(data)/len(data)**0.5)\n",
    "\n",
    "print(\"95% Confidence Interval: \", interval)\n"
   ]
  },
  {
   "cell_type": "markdown",
   "id": "9b764536",
   "metadata": {},
   "source": [
    "Question2 A"
   ]
  },
  {
   "cell_type": "code",
   "execution_count": 5,
   "id": "a7101f08",
   "metadata": {},
   "outputs": [
    {
     "name": "stdout",
     "output_type": "stream",
     "text": [
      "Standard Error (SE):  0.020493901531919198\n",
      "Lower bound (LB):  0.6598319529974384\n",
      "Upper bound (UB):  0.7401680470025616\n"
     ]
    }
   ],
   "source": [
    "SP = 350/500 # sample proportion\n",
    "n = 500 # sample size\n",
    "\n",
    "SE = np.sqrt(SP*(1-SP)/n)\n",
    "\n",
    "print(\"Standard Error (SE): \", SE)\n",
    "\n",
    "z_alpha_2 = 1.96 # critical value for a 95% confidence interval\n",
    "\n",
    "LB = SP - z_alpha_2 * SE\n",
    "UB = SP + z_alpha_2 * SE\n",
    "\n",
    "print(\"Lower bound (LB): \", LB)\n",
    "print(\"Upper bound (UB): \", UB)"
   ]
  },
  {
   "cell_type": "markdown",
   "id": "fada1b25",
   "metadata": {},
   "source": [
    "Question2 C"
   ]
  },
  {
   "cell_type": "code",
   "execution_count": 6,
   "id": "b118e4b4",
   "metadata": {},
   "outputs": [
    {
     "name": "stdout",
     "output_type": "stream",
     "text": [
      "Confidence interval:  (0.6598326910947281, 0.7401673089052718)\n"
     ]
    }
   ],
   "source": [
    "SP = 350/500 # sample proportion\n",
    "n = 500 # sample size\n",
    "\n",
    "CI = stats.norm.interval(0.95, loc=SP, scale=np.sqrt(SP*(1-SP)/n))\n",
    "\n",
    "print(\"Confidence interval: \", CI)"
   ]
  },
  {
   "cell_type": "markdown",
   "id": "1ee97c53",
   "metadata": {},
   "source": [
    "Question3 "
   ]
  },
  {
   "cell_type": "code",
   "execution_count": 7,
   "id": "1f1200ad",
   "metadata": {},
   "outputs": [
    {
     "name": "stdout",
     "output_type": "stream",
     "text": [
      "       Country    Year      Status  Life expectancy   Adult Mortality  \\\n",
      "0  Afghanistan  2015.0  Developing              65.0            263.0   \n",
      "1  Afghanistan  2014.0  Developing              59.9            271.0   \n",
      "2  Afghanistan  2013.0  Developing              59.9            268.0   \n",
      "3  Afghanistan  2012.0  Developing              59.5            272.0   \n",
      "4  Afghanistan  2011.0  Developing              59.2            275.0   \n",
      "\n",
      "   infant deaths  Alcohol  percentage expenditure  Hepatitis B  Measles   ...  \\\n",
      "0           62.0     0.01               71.279624         65.0    1154.0  ...   \n",
      "1           64.0     0.01               73.523582         62.0     492.0  ...   \n",
      "2           66.0     0.01               73.219243         64.0     430.0  ...   \n",
      "3           69.0     0.01               78.184215         67.0    2787.0  ...   \n",
      "4           71.0     0.01                7.097109         68.0    3013.0  ...   \n",
      "\n",
      "   Polio  Total expenditure  Diphtheria    HIV/AIDS         GDP  Population  \\\n",
      "0    6.0               8.16         65.0        0.1  584.259210  33700000.0   \n",
      "1   58.0               8.18         62.0        0.1  612.696514    327582.0   \n",
      "2   62.0               8.13         64.0        0.1  631.744976  31700000.0   \n",
      "3   67.0               8.52         67.0        0.1  669.959000   3700000.0   \n",
      "4   68.0               7.87         68.0        0.1   63.537231   2980000.0   \n",
      "\n",
      "    thinness  1-19 years   thinness 5-9 years  \\\n",
      "0                   17.2                 17.3   \n",
      "1                   17.5                 17.5   \n",
      "2                   17.7                 17.7   \n",
      "3                   17.9                 18.0   \n",
      "4                   18.2                 18.2   \n",
      "\n",
      "   Income composition of resources  Schooling  \n",
      "0                            0.479       10.1  \n",
      "1                            0.476       10.0  \n",
      "2                            0.470        9.9  \n",
      "3                            0.463        9.8  \n",
      "4                            0.454        9.5  \n",
      "\n",
      "[5 rows x 22 columns]\n",
      "Index(['Country', 'Year', 'Status', 'Life expectancy ', 'Adult Mortality',\n",
      "       'infant deaths', 'Alcohol', 'percentage expenditure', 'Hepatitis B',\n",
      "       'Measles ', ' BMI ', 'under-five deaths ', 'Polio', 'Total expenditure',\n",
      "       'Diphtheria ', ' HIV/AIDS', 'GDP', 'Population',\n",
      "       ' thinness  1-19 years', ' thinness 5-9 years',\n",
      "       'Income composition of resources', 'Schooling'],\n",
      "      dtype='object')\n",
      "Mean: 28.804166666666664\n",
      "Standard Deviation: 19.303175660489394\n",
      "Size: 24\n",
      "Standard Error: 3.940244231959223\n",
      "Upper Bound: 36.52704536130674\n",
      "Lower Bound: 21.081287972026587\n"
     ]
    }
   ],
   "source": [
    "\n",
    "# Load dataset and print first five rows\n",
    "df = pd.read_csv('Life_Expectancy_Data_Incomplete_25.csv')\n",
    "print(df.head()) \n",
    "\n",
    "print(df.columns)\n",
    "\n",
    "# Compute and print mean, Standard Deviation, and size (n) of \"BMI\" feature\n",
    "bmi_mean = df[' BMI '].mean()\n",
    "bmi_std = df[' BMI '].std()\n",
    "bmi_n = df[' BMI '].count()\n",
    "print(\"Mean:\", bmi_mean)\n",
    "print(\"Standard Deviation:\", bmi_std)\n",
    "print(\"Size:\", bmi_n)\n",
    "\n",
    "# Compute and print Standard Error (SE) using \"BMI\" feature\n",
    "bmi_se = stats.sem(df[' BMI '], nan_policy='omit')\n",
    "print(\"Standard Error:\", bmi_se)\n",
    "\n",
    "# Compute and print upper bound (UB) and lower bound (LB) using \"BMI\" feature\n",
    "bmi_ub = bmi_mean + 1.96 * bmi_se\n",
    "bmi_lb = bmi_mean - 1.96 * bmi_se\n",
    "print(\"Upper Bound:\", bmi_ub)\n",
    "print(\"Lower Bound:\", bmi_lb)\n"
   ]
  },
  {
   "cell_type": "markdown",
   "id": "0b4808e5",
   "metadata": {},
   "source": [
    "# Question 4"
   ]
  },
  {
   "cell_type": "code",
   "execution_count": 8,
   "id": "2cd2cdda",
   "metadata": {},
   "outputs": [],
   "source": [
    "#Importing Libraries\n",
    "import pandas as pd\n",
    "import numpy as np\n",
    "from sklearn.model_selection import train_test_split\n",
    "import matplotlib.pyplot as plt\n",
    "from sklearn.linear_model import LinearRegression\n",
    "from sklearn.metrics import mean_squared_error"
   ]
  },
  {
   "cell_type": "markdown",
   "id": "602ada55",
   "metadata": {},
   "source": [
    "Task 1 (1)"
   ]
  },
  {
   "cell_type": "code",
   "execution_count": 9,
   "id": "d21e0727",
   "metadata": {},
   "outputs": [
    {
     "data": {
      "text/html": [
       "<div>\n",
       "<style scoped>\n",
       "    .dataframe tbody tr th:only-of-type {\n",
       "        vertical-align: middle;\n",
       "    }\n",
       "\n",
       "    .dataframe tbody tr th {\n",
       "        vertical-align: top;\n",
       "    }\n",
       "\n",
       "    .dataframe thead th {\n",
       "        text-align: right;\n",
       "    }\n",
       "</style>\n",
       "<table border=\"1\" class=\"dataframe\">\n",
       "  <thead>\n",
       "    <tr style=\"text-align: right;\">\n",
       "      <th></th>\n",
       "      <th>engine-size</th>\n",
       "      <th>price</th>\n",
       "    </tr>\n",
       "  </thead>\n",
       "  <tbody>\n",
       "    <tr>\n",
       "      <th>0</th>\n",
       "      <td>130</td>\n",
       "      <td>13495</td>\n",
       "    </tr>\n",
       "    <tr>\n",
       "      <th>1</th>\n",
       "      <td>130</td>\n",
       "      <td>16500</td>\n",
       "    </tr>\n",
       "    <tr>\n",
       "      <th>2</th>\n",
       "      <td>152</td>\n",
       "      <td>16500</td>\n",
       "    </tr>\n",
       "    <tr>\n",
       "      <th>3</th>\n",
       "      <td>109</td>\n",
       "      <td>13950</td>\n",
       "    </tr>\n",
       "    <tr>\n",
       "      <th>4</th>\n",
       "      <td>136</td>\n",
       "      <td>17450</td>\n",
       "    </tr>\n",
       "  </tbody>\n",
       "</table>\n",
       "</div>"
      ],
      "text/plain": [
       "   engine-size  price\n",
       "0          130  13495\n",
       "1          130  16500\n",
       "2          152  16500\n",
       "3          109  13950\n",
       "4          136  17450"
      ]
     },
     "execution_count": 9,
     "metadata": {},
     "output_type": "execute_result"
    }
   ],
   "source": [
    "#reading Data\n",
    "data=pd.read_csv('car_price_dataset.csv')\n",
    "data.head(5)"
   ]
  },
  {
   "cell_type": "markdown",
   "id": "372a9540",
   "metadata": {},
   "source": [
    "Task 1 (2)"
   ]
  },
  {
   "cell_type": "code",
   "execution_count": 10,
   "id": "acc13b34",
   "metadata": {},
   "outputs": [],
   "source": [
    "#converting data into training and testing set\n",
    "x=np.array(data['engine-size'])\n",
    "y=np.array(data['price'])\n",
    "\n",
    "x_train, x_test, y_train, y_test = train_test_split(x,y,test_size=0.25, random_state=42)"
   ]
  },
  {
   "cell_type": "markdown",
   "id": "93a81dba",
   "metadata": {},
   "source": [
    "Task 1 (3)"
   ]
  },
  {
   "cell_type": "code",
   "execution_count": 11,
   "id": "a15c39ba",
   "metadata": {},
   "outputs": [
    {
     "data": {
      "image/png": "[encoded data removed]",
      "text/plain": [
       "<Figure size 640x480 with 1 Axes>"
      ]
     },
     "metadata": {},
     "output_type": "display_data"
    }
   ],
   "source": [
    "#scatterplot to show feature space\n",
    "plt.scatter(x, y)\n",
    "plt.xlabel('Engine_size')\n",
    "plt.ylabel('price')\n",
    "plt.title('Feature Space')\n",
    "plt.show()"
   ]
  },
  {
   "cell_type": "markdown",
   "id": "e25802e8",
   "metadata": {},
   "source": [
    "Task 2 "
   ]
  },
  {
   "cell_type": "code",
   "execution_count": 12,
   "id": "c107c2c1",
   "metadata": {},
   "outputs": [],
   "source": [
    "#splitting dataset columns\n",
    "x=data['engine-size']\n",
    "y=data['price']"
   ]
  },
  {
   "cell_type": "markdown",
   "id": "b44a0eeb",
   "metadata": {},
   "source": [
    "Task 2 (1)"
   ]
  },
  {
   "cell_type": "code",
   "execution_count": 13,
   "id": "0881948b",
   "metadata": {},
   "outputs": [
    {
     "data": {
      "text/plain": [
       "0      0.036314\n",
       "1      0.415385\n",
       "2      0.415385\n",
       "3      0.093711\n",
       "4      0.535224\n",
       "         ...   \n",
       "196    0.458906\n",
       "197    0.736429\n",
       "198    1.044227\n",
       "199    1.168481\n",
       "200    1.188034\n",
       "Name: price, Length: 201, dtype: float64"
      ]
     },
     "execution_count": 13,
     "metadata": {},
     "output_type": "execute_result"
    }
   ],
   "source": [
    "#normalizing Data\n",
    "x_mean=np.mean(x)\n",
    "x_std=np.std(x)\n",
    "y_mean=np.mean(y)\n",
    "y_std=np.std(y)\n",
    "\n",
    "x_norm=(x-x_mean)/x_std\n",
    "y_norm=(y-y_mean)/y_std\n",
    "x_norm\n",
    "y_norm"
   ]
  },
  {
   "cell_type": "code",
   "execution_count": 14,
   "id": "a62fee6c",
   "metadata": {},
   "outputs": [
    {
     "data": {
      "text/plain": [
       "LinearRegression()"
      ]
     },
     "execution_count": 14,
     "metadata": {},
     "output_type": "execute_result"
    }
   ],
   "source": [
    "#using train test split and linear regression\n",
    "x_train = x_train.reshape(-1, 1)\n",
    "y_train = y_train.reshape(-1, 1)\n",
    "model = LinearRegression()\n",
    "model.fit(x_train.reshape(-1, 1), y_train.reshape(-1, 1))"
   ]
  },
  {
   "cell_type": "markdown",
   "id": "153265e4",
   "metadata": {},
   "source": [
    "Task 2 (2)"
   ]
  },
  {
   "cell_type": "code",
   "execution_count": 15,
   "id": "4ba8c1a3",
   "metadata": {},
   "outputs": [],
   "source": [
    "x_test=x_test\n",
    "def predict(x_test):\n",
    "    return model.predict(x_test)\n"
   ]
  },
  {
   "cell_type": "code",
   "execution_count": 16,
   "id": "992ddb37",
   "metadata": {},
   "outputs": [
    {
     "data": {
      "text/plain": [
       "array([[ 8485.72469312],\n",
       "       [24861.65282687],\n",
       "       [ 7754.65647286],\n",
       "       [ 8631.93833717],\n",
       "       [11994.85215035],\n",
       "       [ 7462.22918476],\n",
       "       [28516.99392815],\n",
       "       [12141.0657944 ],\n",
       "       [19305.53435292],\n",
       "       [32026.12138538],\n",
       "       [21060.09808153],\n",
       "       [ 8485.72469312],\n",
       "       [15650.19325163],\n",
       "       [12141.0657944 ],\n",
       "       [14188.05681112],\n",
       "       [ 8485.72469312],\n",
       "       [12141.0657944 ],\n",
       "       [ 8631.93833717],\n",
       "       [12141.0657944 ],\n",
       "       [28516.99392815],\n",
       "       [22668.4481661 ],\n",
       "       [24861.65282687],\n",
       "       [ 7754.65647286],\n",
       "       [ 8485.72469312],\n",
       "       [21060.09808153],\n",
       "       [12141.0657944 ],\n",
       "       [10386.50206579],\n",
       "       [21060.09808153],\n",
       "       [22668.4481661 ],\n",
       "       [11994.85215035],\n",
       "       [10094.07477768],\n",
       "       [ 7462.22918476],\n",
       "       [ 6000.09274424],\n",
       "       [ 7754.65647286],\n",
       "       [ 7754.65647286],\n",
       "       [11848.6385063 ],\n",
       "       [10094.07477768],\n",
       "       [10094.07477768],\n",
       "       [15650.19325163],\n",
       "       [ 8631.93833717],\n",
       "       [17112.32969215],\n",
       "       [19597.96164102],\n",
       "       [10386.50206579],\n",
       "       [ 7462.22918476],\n",
       "       [16381.26147189],\n",
       "       [14919.12503138],\n",
       "       [ 7754.65647286],\n",
       "       [ 7462.22918476],\n",
       "       [10094.07477768],\n",
       "       [ 8485.72469312],\n",
       "       [13895.62952302]])"
      ]
     },
     "execution_count": 16,
     "metadata": {},
     "output_type": "execute_result"
    }
   ],
   "source": [
    "y_pred = predict(x_test.reshape(-1,1))\n",
    "y_pred\n"
   ]
  },
  {
   "cell_type": "markdown",
   "id": "defe5adb",
   "metadata": {},
   "source": [
    "Task 2 (3)"
   ]
  },
  {
   "cell_type": "code",
   "execution_count": 17,
   "id": "b9caaea4",
   "metadata": {},
   "outputs": [
    {
     "ename": "ValueError",
     "evalue": "Number of samples in y_train and y_pred must be the same.",
     "output_type": "error",
     "traceback": [
      "\u001b[1;31m---------------------------------------------------------------------------\u001b[0m",
      "\u001b[1;31mValueError\u001b[0m                                Traceback (most recent call last)",
      "\u001b[1;32m~\\AppData\\Local\\Temp\\ipykernel_20700\\1126692613.py\u001b[0m in \u001b[0;36m<module>\u001b[1;34m\u001b[0m\n\u001b[0;32m      6\u001b[0m \u001b[1;31m# Ensure y_train and y_pred have the same number of samples\u001b[0m\u001b[1;33m\u001b[0m\u001b[1;33m\u001b[0m\u001b[0m\n\u001b[0;32m      7\u001b[0m \u001b[1;32mif\u001b[0m \u001b[0mlen\u001b[0m\u001b[1;33m(\u001b[0m\u001b[0my_train\u001b[0m\u001b[1;33m)\u001b[0m \u001b[1;33m!=\u001b[0m \u001b[0mlen\u001b[0m\u001b[1;33m(\u001b[0m\u001b[0my_pred\u001b[0m\u001b[1;33m)\u001b[0m\u001b[1;33m:\u001b[0m\u001b[1;33m\u001b[0m\u001b[1;33m\u001b[0m\u001b[0m\n\u001b[1;32m----> 8\u001b[1;33m     \u001b[1;32mraise\u001b[0m \u001b[0mValueError\u001b[0m\u001b[1;33m(\u001b[0m\u001b[1;34m\"Number of samples in y_train and y_pred must be the same.\"\u001b[0m\u001b[1;33m)\u001b[0m\u001b[1;33m\u001b[0m\u001b[1;33m\u001b[0m\u001b[0m\n\u001b[0m\u001b[0;32m      9\u001b[0m \u001b[1;33m\u001b[0m\u001b[0m\n\u001b[0;32m     10\u001b[0m \u001b[1;31m# Calculate the risk using the risk function\u001b[0m\u001b[1;33m\u001b[0m\u001b[1;33m\u001b[0m\u001b[0m\n",
      "\u001b[1;31mValueError\u001b[0m: Number of samples in y_train and y_pred must be the same."
     ]
    }
   ],
   "source": [
    "def risk(y_true, y_pred):\n",
    "    n = len(y_true)\n",
    "    mse = mean_squared_error(y_true, y_pred)\n",
    "    risk = 0.5 * mse\n",
    "    return risk\n",
    "# Ensure y_train and y_pred have the same number of samples\n",
    "if len(y_train) != len(y_pred):\n",
    "    raise ValueError(\"Number of samples in y_train and y_pred must be the same.\")\n",
    "\n",
    "# Calculate the risk using the risk function\n",
    "risk_value = risk(y_train.reshape(-1,1), y_pred.reshape(-1,))\n",
    "print(risk_value)"
   ]
  },
  {
   "cell_type": "code",
   "execution_count": 18,
   "id": "e1734b39",
   "metadata": {},
   "outputs": [],
   "source": [
    "# Run code Again from here its stops due to value error"
   ]
  },
  {
   "cell_type": "markdown",
   "id": "f18a2568",
   "metadata": {},
   "source": [
    "Task 2 (4)"
   ]
  },
  {
   "cell_type": "code",
   "execution_count": 19,
   "id": "74a33b5c",
   "metadata": {},
   "outputs": [
    {
     "name": "stderr",
     "output_type": "stream",
     "text": [
      "C:\\Users\\zorai\\AppData\\Local\\Temp\\ipykernel_20700\\577099227.py:20: RuntimeWarning: overflow encountered in square\n",
      "  cost = np.sum(errors ** 2) / (2 * num_samples)\n",
      "C:\\ProgramData\\Anaconda3\\lib\\site-packages\\numpy\\core\\fromnumeric.py:86: RuntimeWarning: overflow encountered in reduce\n",
      "  return ufunc.reduce(obj, axis, dtype, out, **passkwargs)\n",
      "C:\\Users\\zorai\\AppData\\Local\\Temp\\ipykernel_20700\\577099227.py:17: RuntimeWarning: invalid value encountered in subtract\n",
      "  theta -= learning_rate * gradients\n"
     ]
    }
   ],
   "source": [
    "def gradient_descent(X, y, learning_rate, num_iterations):\n",
    "    num_samples, num_features = X.shape\n",
    "    theta = np.zeros((num_features, 1))  # Initialize theta as a column vector\n",
    "    cost_history = []  # Keep track of the cost function history\n",
    "    \n",
    "    for _ in range(num_iterations):\n",
    "        # Calculate predicted values\n",
    "        predictions = np.dot(X, theta)\n",
    "        \n",
    "        # Calculate the difference between predicted and actual values\n",
    "        errors = predictions - y\n",
    "        \n",
    "        # Calculate the gradients\n",
    "        gradients = np.dot(X.T, errors) / num_samples\n",
    "        \n",
    "        # Update theta\n",
    "        theta -= learning_rate * gradients\n",
    "        \n",
    "        # Calculate the cost function\n",
    "        cost = np.sum(errors ** 2) / (2 * num_samples)\n",
    "        cost_history.append(cost)\n",
    "    \n",
    "    return theta.flatten(), cost_history\n",
    "\n",
    "# Run gradient descent\n",
    "learning_rate = 0.01\n",
    "num_iterations = 1000\n",
    "theta, _ = gradient_descent(x_train, y_train, learning_rate, num_iterations)\n",
    "\n",
    "# Generate predicted values\n",
    "x = np.linspace(0, 5, 100)\n",
    "y_pred = theta[0] * x\n"
   ]
  },
  {
   "cell_type": "markdown",
   "id": "8afa10dc",
   "metadata": {},
   "source": [
    "Task 2 (5)"
   ]
  },
  {
   "cell_type": "code",
   "execution_count": 20,
   "id": "591c0f03",
   "metadata": {},
   "outputs": [
    {
     "data": {
      "image/png": "[encoded data removed]",
      "text/plain": [
       "<Figure size 640x480 with 1 Axes>"
      ]
     },
     "metadata": {},
     "output_type": "display_data"
    }
   ],
   "source": [
    "# Plotting\n",
    "plt.scatter(x_train, y_train, label='Actual Data')\n",
    "plt.plot(x, y_pred, color='red', label='Linear Regression')\n",
    "plt.xlabel('X')\n",
    "plt.ylabel('Y')\n",
    "plt.title('Linear Regression')\n",
    "plt.legend()\n",
    "plt.show()\n",
    "\n"
   ]
  },
  {
   "cell_type": "markdown",
   "id": "44e01b53",
   "metadata": {},
   "source": [
    "Task 2 (6)"
   ]
  },
  {
   "cell_type": "code",
   "execution_count": 21,
   "id": "f3e6984f",
   "metadata": {},
   "outputs": [
    {
     "name": "stdout",
     "output_type": "stream",
     "text": [
      "Intercept (Theta₀): nan\n"
     ]
    }
   ],
   "source": [
    "# Print coefficients\n",
    "print(\"Intercept (Theta₀):\", theta[0])"
   ]
  },
  {
   "cell_type": "markdown",
   "id": "b8916144",
   "metadata": {},
   "source": [
    "# Part 2"
   ]
  },
  {
   "cell_type": "markdown",
   "id": "c9977aa8",
   "metadata": {},
   "source": [
    "# Question no 1"
   ]
  },
  {
   "cell_type": "markdown",
   "id": "dd6fafe2",
   "metadata": {},
   "source": [
    "# Part a"
   ]
  },
  {
   "cell_type": "markdown",
   "id": "ad2d87dc",
   "metadata": {},
   "source": [
    "Step 1: Population of Interest: Customers of the mobile phone brand"
   ]
  },
  {
   "cell_type": "markdown",
   "id": "620b13e3",
   "metadata": {},
   "source": [
    "p is hypothesis population"
   ]
  },
  {
   "cell_type": "markdown",
   "id": "1d0255f5",
   "metadata": {},
   "source": [
    "Step 2: Null Hypothesis: p = 0.52"
   ]
  },
  {
   "cell_type": "markdown",
   "id": "8a8cbe46",
   "metadata": {},
   "source": [
    "Step 3: Alternative Hypothesis: p > 0.52"
   ]
  },
  {
   "cell_type": "markdown",
   "id": "5c2c87e1",
   "metadata": {},
   "source": [
    "# Part b"
   ]
  },
  {
   "cell_type": "code",
   "execution_count": 22,
   "id": "c0378c7f",
   "metadata": {},
   "outputs": [],
   "source": [
    "import math"
   ]
  },
  {
   "cell_type": "code",
   "execution_count": 23,
   "id": "0e6c6402",
   "metadata": {},
   "outputs": [],
   "source": [
    "p̂ = 0.56 \n",
    "#sample_proportion"
   ]
  },
  {
   "cell_type": "code",
   "execution_count": 24,
   "id": "54f83ad8",
   "metadata": {},
   "outputs": [],
   "source": [
    "p = 0.52\n",
    "#hypothesis_population"
   ]
  },
  {
   "cell_type": "code",
   "execution_count": 25,
   "id": "fbb5bce6",
   "metadata": {},
   "outputs": [],
   "source": [
    "sample = 1000"
   ]
  },
  {
   "cell_type": "markdown",
   "id": "325d9345",
   "metadata": {},
   "source": [
    "z-test formula"
   ]
  },
  {
   "cell_type": "markdown",
   "id": "fdd5736c",
   "metadata": {},
   "source": [
    "z = (p̂ - p) / sqrt(p * (1 - p) / n)"
   ]
  },
  {
   "cell_type": "code",
   "execution_count": 26,
   "id": "70bc507f",
   "metadata": {},
   "outputs": [],
   "source": [
    "z_score = (p̂ - p) / math.sqrt(p * (1 - p) / sample)"
   ]
  },
  {
   "cell_type": "code",
   "execution_count": 27,
   "id": "966fa130",
   "metadata": {},
   "outputs": [
    {
     "name": "stdout",
     "output_type": "stream",
     "text": [
      "z-score: 2.5318484177091687\n"
     ]
    }
   ],
   "source": [
    "print(\"z-score:\", z_score)"
   ]
  },
  {
   "cell_type": "markdown",
   "id": "f44c6831",
   "metadata": {},
   "source": [
    "# Question 2"
   ]
  },
  {
   "cell_type": "markdown",
   "id": "caa941a2",
   "metadata": {},
   "source": [
    "# Part a"
   ]
  },
  {
   "cell_type": "markdown",
   "id": "68a35c78",
   "metadata": {},
   "source": [
    "Step 1: Population of Interest: All member countries of UN that participated in the survey."
   ]
  },
  {
   "cell_type": "markdown",
   "id": "92ab20a0",
   "metadata": {},
   "source": [
    "Step 2: Null Hypothesis: gdp >= 5400"
   ]
  },
  {
   "cell_type": "markdown",
   "id": "9a92771f",
   "metadata": {},
   "source": [
    "Step 3: Alternative Hypothesis: gdp < 5400"
   ]
  },
  {
   "cell_type": "markdown",
   "id": "441a874c",
   "metadata": {},
   "source": [
    "# Part b"
   ]
  },
  {
   "cell_type": "code",
   "execution_count": 28,
   "id": "62e00151",
   "metadata": {},
   "outputs": [],
   "source": [
    "import pandas as pd\n",
    "import statistics as stats\n",
    "from scipy import stats as sci_stats"
   ]
  },
  {
   "cell_type": "code",
   "execution_count": 29,
   "id": "9da54cd1",
   "metadata": {},
   "outputs": [
    {
     "name": "stdout",
     "output_type": "stream",
     "text": [
      "       Country  Year      Status  Life expectancy   Adult Mortality  \\\n",
      "0  Afghanistan  2015  Developing              65.0              263   \n",
      "1  Afghanistan  2014  Developing              59.9              271   \n",
      "2  Afghanistan  2013  Developing              59.9              268   \n",
      "3  Afghanistan  2012  Developing              59.5              272   \n",
      "4  Afghanistan  2011  Developing              59.2              275   \n",
      "\n",
      "   infant deaths  Alcohol  percentage expenditure  Hepatitis B  Measles   ...  \\\n",
      "0             62     0.01               71.279624           65      1154  ...   \n",
      "1             64     0.01               73.523582           62       492  ...   \n",
      "2             66     0.01               73.219243           64       430  ...   \n",
      "3             69     0.01               78.184215           67      2787  ...   \n",
      "4             71     0.01                7.097109           68      3013  ...   \n",
      "\n",
      "   Polio  Total expenditure  Diphtheria    HIV/AIDS         GDP  Population  \\\n",
      "0      6               8.16           65        0.1  584.259210  33700000.0   \n",
      "1     58               8.18           62        0.1  612.696514    327582.0   \n",
      "2     62               8.13           64        0.1  631.744976  31700000.0   \n",
      "3     67               8.52           67        0.1  669.959000   3700000.0   \n",
      "4     68               7.87           68        0.1   63.537231   2980000.0   \n",
      "\n",
      "    thinness  1-19 years   thinness 5-9 years  \\\n",
      "0                   17.2                 17.3   \n",
      "1                   17.5                 17.5   \n",
      "2                   17.7                 17.7   \n",
      "3                   17.9                 18.0   \n",
      "4                   18.2                 18.2   \n",
      "\n",
      "   Income composition of resources  Schooling  \n",
      "0                            0.479       10.1  \n",
      "1                            0.476       10.0  \n",
      "2                            0.470        9.9  \n",
      "3                            0.463        9.8  \n",
      "4                            0.454        9.5  \n",
      "\n",
      "[5 rows x 22 columns]\n"
     ]
    }
   ],
   "source": [
    "file = pd.read_csv(\"Life_Expectancy_Data.csv\")\n",
    "print(file.head())"
   ]
  },
  {
   "cell_type": "code",
   "execution_count": 30,
   "id": "30db1bd2",
   "metadata": {},
   "outputs": [],
   "source": [
    "GDP_data = file['GDP']"
   ]
  },
  {
   "cell_type": "code",
   "execution_count": 31,
   "id": "3803ad3b",
   "metadata": {},
   "outputs": [
    {
     "name": "stdout",
     "output_type": "stream",
     "text": [
      "Mean :  5566.031886817586\n"
     ]
    }
   ],
   "source": [
    "mean_GDP = stats.mean(GDP_data)\n",
    "print(\"Mean : \",mean_GDP)"
   ]
  },
  {
   "cell_type": "code",
   "execution_count": 32,
   "id": "4e2e6058",
   "metadata": {},
   "outputs": [
    {
     "name": "stdout",
     "output_type": "stream",
     "text": [
      "Standard Devaition :  11475.900117274568\n"
     ]
    }
   ],
   "source": [
    "std_GDP = stats.stdev(GDP_data)\n",
    "print(\"Standard Devaition : \",std_GDP)"
   ]
  },
  {
   "cell_type": "code",
   "execution_count": 33,
   "id": "56a116c0",
   "metadata": {},
   "outputs": [
    {
     "name": "stdout",
     "output_type": "stream",
     "text": [
      "GDP size :  1649\n"
     ]
    }
   ],
   "source": [
    "size_GDP = len(GDP_data)\n",
    "print(\"GDP size : \",size_GDP)"
   ]
  },
  {
   "cell_type": "markdown",
   "id": "1e53c351",
   "metadata": {},
   "source": [
    "Assuming Null Hypothesis is true gpd >= 5400"
   ]
  },
  {
   "cell_type": "code",
   "execution_count": 34,
   "id": "9d4e74fa",
   "metadata": {},
   "outputs": [],
   "source": [
    "gdp = 5400"
   ]
  },
  {
   "cell_type": "code",
   "execution_count": 35,
   "id": "671fa59d",
   "metadata": {},
   "outputs": [],
   "source": [
    "Alpha = 0.05"
   ]
  },
  {
   "cell_type": "markdown",
   "id": "560e7f31",
   "metadata": {},
   "source": [
    "z = (x - mu) / (sigma / sqrt(n))"
   ]
  },
  {
   "cell_type": "markdown",
   "id": "313e9901",
   "metadata": {},
   "source": [
    "x is mean of GDP, mu is average gdp, sigma is standard deviation, sqrt(n) is square of GDP size"
   ]
  },
  {
   "cell_type": "code",
   "execution_count": 36,
   "id": "aafa8440",
   "metadata": {},
   "outputs": [
    {
     "name": "stdout",
     "output_type": "stream",
     "text": [
      "Z-Score: 0.0209539438833093\n"
     ]
    }
   ],
   "source": [
    "z_score = (mean_GDP - gdp) / (std_GDP  / (size_GDP ** Alpha))\n",
    "print(\"Z-Score:\", z_score)"
   ]
  },
  {
   "cell_type": "code",
   "execution_count": 37,
   "id": "0ea4dfd6",
   "metadata": {},
   "outputs": [
    {
     "name": "stdout",
     "output_type": "stream",
     "text": [
      "p-value: 0.5083588024716166\n"
     ]
    }
   ],
   "source": [
    "p_value = sci_stats.norm.cdf(z_score)\n",
    "print(\"p-value:\", p_value)"
   ]
  },
  {
   "cell_type": "markdown",
   "id": "e55d1bce",
   "metadata": {},
   "source": [
    "# Part C"
   ]
  },
  {
   "cell_type": "code",
   "execution_count": 38,
   "id": "f439d471",
   "metadata": {},
   "outputs": [
    {
     "name": "stdout",
     "output_type": "stream",
     "text": [
      "The average GDP of the world is greater than or equal to 5400. SowWe fail to reject the null hypothesis.\n"
     ]
    }
   ],
   "source": [
    "if p_value < Alpha:\n",
    "    print(\"The average GDP of the world is less than 5400.So,we reject null hypothesis\")\n",
    "else:\n",
    "    print(\"The average GDP of the world is greater than or equal to 5400. SowWe fail to reject the null hypothesis.\")"
   ]
  },
  {
   "cell_type": "markdown",
   "id": "90466494",
   "metadata": {},
   "source": [
    "# Question No 3"
   ]
  },
  {
   "cell_type": "markdown",
   "id": "61134a31",
   "metadata": {},
   "source": [
    "# Part a"
   ]
  },
  {
   "cell_type": "markdown",
   "id": "dc528c52",
   "metadata": {},
   "source": [
    "Step 1: Population of Interest: All countries in the world\n",
    "\n",
    "Step 2: Null Hypothesis: The average life expectancy of the developed world is equal to or less than the average life expectancy of the developing world\n",
    "\n",
    "Step 3: Alternative Hypothesis:\n",
    "The average life expectancy of the developed world is significantly higher than the average life expectancy of the developing world"
   ]
  },
  {
   "cell_type": "markdown",
   "id": "4b1e2ef0",
   "metadata": {},
   "source": [
    "# Part b"
   ]
  },
  {
   "cell_type": "code",
   "execution_count": 39,
   "id": "2815d48c",
   "metadata": {},
   "outputs": [],
   "source": [
    "from scipy import stats"
   ]
  },
  {
   "cell_type": "code",
   "execution_count": 40,
   "id": "7effb888",
   "metadata": {},
   "outputs": [
    {
     "name": "stdout",
     "output_type": "stream",
     "text": [
      "       Country  Year      Status  Life expectancy   Adult Mortality  \\\n",
      "0  Afghanistan  2015  Developing              65.0              263   \n",
      "1  Afghanistan  2014  Developing              59.9              271   \n",
      "2  Afghanistan  2013  Developing              59.9              268   \n",
      "3  Afghanistan  2012  Developing              59.5              272   \n",
      "4  Afghanistan  2011  Developing              59.2              275   \n",
      "\n",
      "   infant deaths  Alcohol  percentage expenditure  Hepatitis B  Measles   ...  \\\n",
      "0             62     0.01               71.279624           65      1154  ...   \n",
      "1             64     0.01               73.523582           62       492  ...   \n",
      "2             66     0.01               73.219243           64       430  ...   \n",
      "3             69     0.01               78.184215           67      2787  ...   \n",
      "4             71     0.01                7.097109           68      3013  ...   \n",
      "\n",
      "   Polio  Total expenditure  Diphtheria    HIV/AIDS         GDP  Population  \\\n",
      "0      6               8.16           65        0.1  584.259210  33700000.0   \n",
      "1     58               8.18           62        0.1  612.696514    327582.0   \n",
      "2     62               8.13           64        0.1  631.744976  31700000.0   \n",
      "3     67               8.52           67        0.1  669.959000   3700000.0   \n",
      "4     68               7.87           68        0.1   63.537231   2980000.0   \n",
      "\n",
      "    thinness  1-19 years   thinness 5-9 years  \\\n",
      "0                   17.2                 17.3   \n",
      "1                   17.5                 17.5   \n",
      "2                   17.7                 17.7   \n",
      "3                   17.9                 18.0   \n",
      "4                   18.2                 18.2   \n",
      "\n",
      "   Income composition of resources  Schooling  \n",
      "0                            0.479       10.1  \n",
      "1                            0.476       10.0  \n",
      "2                            0.470        9.9  \n",
      "3                            0.463        9.8  \n",
      "4                            0.454        9.5  \n",
      "\n",
      "[5 rows x 22 columns]\n"
     ]
    }
   ],
   "source": [
    "Life = pd.read_csv(\"Life_Expectancy_Data.csv\")\n",
    "print(Life.head())"
   ]
  },
  {
   "cell_type": "code",
   "execution_count": 41,
   "id": "77bff4ba",
   "metadata": {},
   "outputs": [],
   "source": [
    "developed_le = Life[Life[\"Status\"] == \"Developed\"][\"Life expectancy \"]"
   ]
  },
  {
   "cell_type": "code",
   "execution_count": 42,
   "id": "75a76b06",
   "metadata": {},
   "outputs": [],
   "source": [
    "developed_le_mean = developed_le.mean()\n",
    "developed_le_std = developed_le.std()\n",
    "developed_le_n = len(developed_le)"
   ]
  },
  {
   "cell_type": "code",
   "execution_count": 43,
   "id": "90c57bdb",
   "metadata": {},
   "outputs": [],
   "source": [
    "developing_le = Life[Life[\"Status\"] == \"Developing\"][\"Life expectancy \"]"
   ]
  },
  {
   "cell_type": "code",
   "execution_count": 44,
   "id": "c80a5837",
   "metadata": {},
   "outputs": [],
   "source": [
    "developing_le_mean = developing_le.mean()\n",
    "developing_le_std = developing_le.std()\n",
    "developing_le_n = len(developing_le)"
   ]
  },
  {
   "cell_type": "code",
   "execution_count": 45,
   "id": "778a229e",
   "metadata": {},
   "outputs": [
    {
     "name": "stdout",
     "output_type": "stream",
     "text": [
      "Developing Countries:\n",
      "Mean: 67.68734896943857\n",
      "Standard Deviation: 8.353982824185268\n",
      "Sample Size (n): 1407\n"
     ]
    }
   ],
   "source": [
    "print(\"Developing Countries:\")\n",
    "print(\"Mean:\", developing_le_mean)\n",
    "print(\"Standard Deviation:\", developing_le_std)\n",
    "print(\"Sample Size (n):\", developing_le_n)\n"
   ]
  },
  {
   "cell_type": "code",
   "execution_count": 46,
   "id": "e2cb3aba",
   "metadata": {},
   "outputs": [
    {
     "name": "stdout",
     "output_type": "stream",
     "text": [
      "\n",
      "Developed Countries:\n",
      "Mean: 78.6917355371901\n",
      "Standard Deviation: 4.273484527228102\n",
      "Sample Size (n): 242\n"
     ]
    }
   ],
   "source": [
    "print(\"\\nDeveloped Countries:\")\n",
    "print(\"Mean:\", developed_le_mean)\n",
    "print(\"Standard Deviation:\", developed_le_std)\n",
    "print(\"Sample Size (n):\", developed_le_n)"
   ]
  },
  {
   "cell_type": "code",
   "execution_count": 47,
   "id": "0cf5f46d",
   "metadata": {},
   "outputs": [],
   "source": [
    "standard_error = ((developed_le_std ** 2) / len(developed_le) + (developing_le_std ** 2) / len(developing_le)) ** 0.5"
   ]
  },
  {
   "cell_type": "code",
   "execution_count": 48,
   "id": "59b0c75a",
   "metadata": {},
   "outputs": [],
   "source": [
    "z_score, p_value = stats.ttest_ind(developed_le, developing_le)\n",
    "#Mulitpltying with for two tailed test"
   ]
  },
  {
   "cell_type": "code",
   "execution_count": 49,
   "id": "9429e755",
   "metadata": {},
   "outputs": [
    {
     "name": "stdout",
     "output_type": "stream",
     "text": [
      "Z-score: 20.04, P-value: 0.0000\n"
     ]
    }
   ],
   "source": [
    "print(f\"Z-score: {z_score:.2f}, P-value: {p_value:.4f}\")"
   ]
  },
  {
   "cell_type": "markdown",
   "id": "f303340b",
   "metadata": {},
   "source": [
    "# Part c"
   ]
  },
  {
   "cell_type": "code",
   "execution_count": 50,
   "id": "2b322223",
   "metadata": {},
   "outputs": [
    {
     "name": "stdout",
     "output_type": "stream",
     "text": [
      "Null hypothesis is rejected. There is a signinficant difference between life expectancy of developed and developing countries.\n"
     ]
    }
   ],
   "source": [
    "if p_value < 0.05:\n",
    "    print(\"Null hypothesis is rejected. There is a signinficant difference between life expectancy of developed and developing countries.\")\n",
    "else:\n",
    "    print(\"We fail to reject the null hypothesis. There is not enough evidence to suggest a significant difference in the life expectancy between developed and developing countries.\")"
   ]
  },
  {
   "cell_type": "markdown",
   "id": "60067d29",
   "metadata": {},
   "source": [
    "Based upon the p-value of the z-test can make desicion wether to reject null hypothesis or not."
   ]
  },
  {
   "cell_type": "code",
   "execution_count": null,
   "id": "8aa4428d",
   "metadata": {},
   "outputs": [],
   "source": []
  }
 ],
 "metadata": {
  "kernelspec": {
   "display_name": "Python 3 (ipykernel)",
   "language": "python",
   "name": "python3"
  },
  "language_info": {
   "codemirror_mode": {
    "name": "ipython",
    "version": 3
   },
   "file_extension": ".py",
   "mimetype": "text/x-python",
   "name": "python",
   "nbconvert_exporter": "python",
   "pygments_lexer": "ipython3",
   "version": "3.9.13"
  }
 },
 "nbformat": 4,
 "nbformat_minor": 5
}
